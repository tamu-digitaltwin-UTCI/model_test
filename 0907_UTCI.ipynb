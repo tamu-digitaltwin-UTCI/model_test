{
  "nbformat": 4,
  "nbformat_minor": 0,
  "metadata": {
    "colab": {
      "provenance": []
    },
    "kernelspec": {
      "name": "python3",
      "display_name": "Python 3"
    },
    "language_info": {
      "name": "python"
    }
  },
  "cells": [
    {
      "cell_type": "code",
      "execution_count": 1,
      "metadata": {
        "colab": {
          "base_uri": "https://localhost:8080/"
        },
        "id": "Dt3B8RYaTeqT",
        "outputId": "913b7f96-c9e5-41f8-f744-92d4f44de74a"
      },
      "outputs": [
        {
          "output_type": "stream",
          "name": "stdout",
          "text": [
            "Collecting rasterio\n",
            "  Downloading rasterio-1.3.11-cp310-cp310-manylinux_2_17_x86_64.manylinux2014_x86_64.whl.metadata (14 kB)\n",
            "Collecting affine (from rasterio)\n",
            "  Downloading affine-2.4.0-py3-none-any.whl.metadata (4.0 kB)\n",
            "Requirement already satisfied: attrs in /usr/local/lib/python3.10/dist-packages (from rasterio) (24.2.0)\n",
            "Requirement already satisfied: certifi in /usr/local/lib/python3.10/dist-packages (from rasterio) (2024.8.30)\n",
            "Requirement already satisfied: click>=4.0 in /usr/local/lib/python3.10/dist-packages (from rasterio) (8.1.7)\n",
            "Requirement already satisfied: cligj>=0.5 in /usr/local/lib/python3.10/dist-packages (from rasterio) (0.7.2)\n",
            "Requirement already satisfied: numpy in /usr/local/lib/python3.10/dist-packages (from rasterio) (1.26.4)\n",
            "Collecting snuggs>=1.4.1 (from rasterio)\n",
            "  Downloading snuggs-1.4.7-py3-none-any.whl.metadata (3.4 kB)\n",
            "Requirement already satisfied: click-plugins in /usr/local/lib/python3.10/dist-packages (from rasterio) (1.1.1)\n",
            "Requirement already satisfied: setuptools in /usr/local/lib/python3.10/dist-packages (from rasterio) (71.0.4)\n",
            "Requirement already satisfied: pyparsing>=2.1.6 in /usr/local/lib/python3.10/dist-packages (from snuggs>=1.4.1->rasterio) (3.1.4)\n",
            "Downloading rasterio-1.3.11-cp310-cp310-manylinux_2_17_x86_64.manylinux2014_x86_64.whl (21.7 MB)\n",
            "\u001b[2K   \u001b[90m━━━━━━━━━━━━━━━━━━━━━━━━━━━━━━━━━━━━━━━━\u001b[0m \u001b[32m21.7/21.7 MB\u001b[0m \u001b[31m30.6 MB/s\u001b[0m eta \u001b[36m0:00:00\u001b[0m\n",
            "\u001b[?25hDownloading snuggs-1.4.7-py3-none-any.whl (5.4 kB)\n",
            "Downloading affine-2.4.0-py3-none-any.whl (15 kB)\n",
            "Installing collected packages: snuggs, affine, rasterio\n",
            "Successfully installed affine-2.4.0 rasterio-1.3.11 snuggs-1.4.7\n"
          ]
        }
      ],
      "source": [
        "pip install rasterio"
      ]
    },
    {
      "cell_type": "code",
      "source": [
        "from google.colab import drive\n",
        "drive.mount('/content/drive')"
      ],
      "metadata": {
        "colab": {
          "base_uri": "https://localhost:8080/"
        },
        "id": "1hjtwnE8ToJy",
        "outputId": "039d95c9-6a1a-44df-8f3d-7c233591393a"
      },
      "execution_count": 2,
      "outputs": [
        {
          "output_type": "stream",
          "name": "stdout",
          "text": [
            "Mounted at /content/drive\n"
          ]
        }
      ]
    },
    {
      "cell_type": "code",
      "source": [
        "import os\n",
        "\n",
        "# 检查文件是否存在\n",
        "file_path = '/content/drive/MyDrive/UTCI_prediction/data/spatial_images/landcover9.tif'\n",
        "if os.path.exists(file_path):\n",
        "    print(\"文件存在\")\n",
        "else:\n",
        "    print(\"文件不存在，检查路径或文件名\")"
      ],
      "metadata": {
        "colab": {
          "base_uri": "https://localhost:8080/"
        },
        "id": "1iwztFm3Tw4r",
        "outputId": "0fdc4be2-651e-4366-848c-45c2413d90c6"
      },
      "execution_count": 3,
      "outputs": [
        {
          "output_type": "stream",
          "name": "stdout",
          "text": [
            "文件存在\n"
          ]
        }
      ]
    },
    {
      "cell_type": "markdown",
      "source": [
        "读取并分割土地覆盖数据:\n",
        "\n",
        "使用 read_tif 函数读取土地覆盖的 TIF 文件，返回一个包含土地利用数据的 NumPy 数组。 该数组被输入到 segment_by_landcover 函数中，这里使用 label 函数（来自 skimage.measure）对这些数据进行分割。label 函数会识别数组中的连续区域（或连通组件），其中每个唯一的区域（根据土地覆盖的不同值）被分配一个唯一的标签。\n",
        "\n",
        "\n",
        "使用 regionprops 函数:\n",
        "\n",
        "regionprops 接收来自 label 函数的分割后的标签数组（segmented_landcover），并生成一个包含每个独立区域（连通组件）的属性和统计信息的列表。 每个 region 对象包含有关其形状、大小、位置等的信息。region.label 是自动赋予该区域的唯一标识符（即 region_id）。 处理每个区域:\n",
        "\n",
        "对于每个区域，使用 process_region 函数来提取相关的特征（如 UTCI 指数的平均值、最小值和最大值，以及 DEM 和土地覆盖的统计数据）。 region_id 用于唯一标识每个区域，因此在最终的数据集中可以追踪和区分不同的土地区域。"
      ],
      "metadata": {
        "id": "rQjlAEVmT1gg"
      }
    },
    {
      "cell_type": "markdown",
      "source": [
        "以下是第一轮的旧代码。\n",
        "专注于从多个静态TIF文件（土地覆盖、树高、建筑高度和DEM）中读取数据，并结合一个CSV文件中的时间戳数据来生成特征。处理时间序列数据，主要是读取随时间变化的UTCI数据，并生成相关的时间序列特征。\n",
        "这个程序会同时处理静态和动态数据，将时间戳与土地覆盖、树高、建筑高度和DEM数据结合起来，并处理时间序列的UTCI数据。以下是合并后的代码示例："
      ],
      "metadata": {
        "id": "hzrm7RPgUYmq"
      }
    },
    {
      "cell_type": "code",
      "source": [
        "#第一轮的旧代码上半部分\n",
        "import pandas as pd\n",
        "import numpy as np\n",
        "import rasterio\n",
        "from skimage.measure import label, regionprops\n",
        "from skimage.filters import threshold_otsu\n",
        "\n",
        "def read_tif(file_path):\n",
        "    \"\"\"读取TIF文件并返回数据数组。\"\"\"\n",
        "    with rasterio.open(file_path) as src:\n",
        "        return src.read(1)  # 读取第一层数据\n",
        "\n",
        "def segment_by_landcover(image):\n",
        "    \"\"\"Segment the landcover image based on its unique categorical values.\"\"\"\n",
        "    labels = label(image)  # Automatically label each area\n",
        "    return labels\n",
        "\n",
        "# 读取空间数据\n",
        "landcover = read_tif('/content/drive/MyDrive/UTCI_prediction/data/spatial_images/landcover9.tif')\n",
        "tree_height = read_tif('/content/drive/MyDrive/UTCI_prediction/data/spatial_images/tree height_9.tif')\n",
        "building_height = read_tif('/content/drive/MyDrive/UTCI_prediction/data/spatial_images/building height_9.tif')\n",
        "dem = read_tif('/content/drive/MyDrive/UTCI_prediction/data/spatial_images/DEM_9.tif')\n",
        "\n",
        "segmented_landcover = segment_by_landcover(landcover)\n",
        "\n",
        "# 读取CSV文件\n",
        "csv_data = pd.read_csv('/content/drive/MyDrive/UTCI_prediction/data/Yifan_updated_data_with_timestamps.csv')\n",
        "\n",
        "features_list = []\n",
        "regions = regionprops(segmented_landcover, intensity_image=tree_height)\n",
        "\n",
        "for index, row in csv_data.iterrows():\n",
        "    for region in regions:\n",
        "        features = {\n",
        "            'region_id': region.label,\n",
        "            'tree_height_mean': np.mean(tree_height[region.coords[:, 0], region.coords[:, 1]]),\n",
        "            'building_height_mean': np.mean(building_height[region.coords[:, 0], region.coords[:, 1]]),\n",
        "            'dem_mean': np.mean(dem[region.coords[:, 0], region.coords[:, 1]]),\n",
        "            'timestamp': row['timestamp']\n",
        "        }\n",
        "\n",
        "\n",
        "        for col in csv_data.columns[1:]:\n",
        "            features[col] = row[col]\n",
        "\n",
        "        features_list.append(features)\n",
        "\n",
        "all_features_df = pd.DataFrame(features_list)\n",
        "\n",
        "# 将所有特征数据保存到一个CSV文件中\n",
        "all_features_df.to_csv('/content/drive/MyDrive/UTCI_prediction/data/feature_output.csv', index=False)\n",
        "\n",
        "#第一轮的旧代码\n",
        "import os\n",
        "import pandas as pd\n",
        "import numpy as np\n",
        "import rasterio\n",
        "from skimage.measure import label, regionprops\n",
        "from datetime import datetime, timedelta\n",
        "\n",
        "def read_utci_from_tif(file_path):\n",
        "    \"\"\"专门用于从TIF文件读取UTCi数据的函数。\"\"\"\n",
        "    with rasterio.open(file_path) as src:\n",
        "        utci_data = src.read(1)\n",
        "    return utci_data\n",
        "\n",
        "def segment_by_landcover(image):\n",
        "    \"\"\"根据土地利用的唯一分类值进行分割。\"\"\"\n",
        "    labels = label(image)\n",
        "    return labels\n",
        "\n",
        "# 读取土地利用数据并进行分割\n",
        "landcover_path = '/content/drive/MyDrive/UTCI_prediction/data/spatial_images/landcover9.tif'\n",
        "landcover = read_utci_from_tif(landcover_path)\n",
        "segmented_landcover = segment_by_landcover(landcover)\n",
        "\n",
        "# 新数据集文件夹路径\n",
        "new_dataset_folder = '/content/drive/MyDrive/UTCI_prediction/data/output_images'\n",
        "features_list = []\n",
        "\n",
        "\n",
        "initial_timestamp = datetime.strptime(\"2022-07-03-00\", \"%Y-%m-%d-%H\")\n",
        "time_increment = timedelta(hours=1)\n",
        "\n",
        "# 遍历新数据集中的每个文件\n",
        "for index, filename in enumerate(sorted(os.listdir(new_dataset_folder))):\n",
        "    if filename.endswith('.tif'):\n",
        "        new_data_path = os.path.join(new_dataset_folder, filename)\n",
        "        new_data = read_utci_from_tif(new_data_path)\n",
        "\n",
        "\n",
        "        current_timestamp = initial_timestamp + index * time_increment\n",
        "        timestamp_str = current_timestamp.strftime(\"%Y-%m-%d-%H\")\n",
        "\n",
        "        regions = regionprops(segmented_landcover, intensity_image=new_data)\n",
        "        for region in regions:\n",
        "            utc_values = new_data[region.coords[:, 0], region.coords[:, 1]]\n",
        "            utc_mean = np.mean(utc_values) if utc_values.size > 0 else np.nan\n",
        "\n",
        "            features = {\n",
        "                'region_id': region.label,\n",
        "                'UTCI': utc_mean,\n",
        "                'timestamp': timestamp_str\n",
        "            }\n",
        "\n",
        "            features_list.append(features)\n",
        "\n",
        "all_features_df = pd.DataFrame(features_list)\n",
        "output_csv_path = '/content/drive/MyDrive/UTCI_prediction/data/old_method_UTCI_feature.csv'\n",
        "all_features_df.to_csv(output_csv_path, index=False)"
      ],
      "metadata": {
        "id": "brRRXoooTyv7"
      },
      "execution_count": 6,
      "outputs": []
    },
    {
      "cell_type": "code",
      "source": [
        "import pandas as pd\n",
        "\n",
        "# 读取数据\n",
        "input_data = pd.read_csv('/content/drive/MyDrive/UTCI_prediction/data/feature_output.csv')\n",
        "utci_data = pd.read_csv('/content/drive/MyDrive/UTCI_prediction/data/old_method_UTCI_feature.csv')\n",
        "\n",
        "# 基于 region_id 和 timestamp 列合并数据\n",
        "merged_data = pd.merge(input_data, utci_data, on=['region_id', 'timestamp'], how='outer')\n",
        "\n",
        "# 保存合并后的数据到 CSV 文件\n",
        "merged_data.to_csv('/content/drive/MyDrive/UTCI_prediction/data/old_method_all_features.csv', index=False)"
      ],
      "metadata": {
        "id": "mfnxM_FwYn6W"
      },
      "execution_count": 7,
      "outputs": []
    },
    {
      "cell_type": "markdown",
      "source": [
        "以下是新的数值计算部分"
      ],
      "metadata": {
        "id": "sGgNBZa7ZOHK"
      }
    },
    {
      "cell_type": "code",
      "source": [
        "#0905修改的代码\n",
        "import os\n",
        "import pandas as pd\n",
        "import numpy as np\n",
        "import rasterio\n",
        "from skimage.measure import label, regionprops\n",
        "from datetime import datetime, timedelta\n",
        "\n",
        "def read_tif(file_path):\n",
        "    \"\"\"\n",
        "    读取TIF文件并返回数据数组。\n",
        "    :param file_path: TIF文件的路径\n",
        "    :return: 包含TIF数据的numpy数组\n",
        "    \"\"\"\n",
        "    with rasterio.open(file_path) as src:\n",
        "        return src.read(1)  # 读取第一个波段\n",
        "\n",
        "def segment_by_landcover(image):\n",
        "    \"\"\"\n",
        "    根据土地利用的唯一分类值进行分割。\n",
        "    :param image: 土地利用数据数组\n",
        "    :return: 分割后的标签数组\n",
        "    \"\"\"\n",
        "    return label(image)\n",
        "\n",
        "def process_region(region, utci_data, landcover_data, dem_data, timestamp):\n",
        "    \"\"\"\n",
        "    处理单个区域并提取特征。\n",
        "    :param region: 区域对象\n",
        "    :param utci_data: UTCI数据数组\n",
        "    :param landcover_data: 土地利用数据数组\n",
        "    :param dem_data: DEM数据数组\n",
        "    :param timestamp: 时间戳\n",
        "    :return: 包含该区域特征的字典\n",
        "    \"\"\"\n",
        "    coords = region.coords\n",
        "    utci_values = utci_data[coords[:, 0], coords[:, 1]]\n",
        "    landcover_values = landcover_data[coords[:, 0], coords[:, 1]]\n",
        "    dem_values = dem_data[coords[:, 0], coords[:, 1]]\n",
        "\n",
        "    # 转换土地利用数据为整数\n",
        "    landcover_values_int = landcover_values.astype(int)\n",
        "\n",
        "    return {\n",
        "        'region_id': region.label,\n",
        "        'UTCI_mean': np.mean(utci_values) if utci_values.size > 0 else np.nan,\n",
        "        'UTCI_min': np.min(utci_values) if utci_values.size > 0 else np.nan,\n",
        "        'UTCI_max': np.max(utci_values) if utci_values.size > 0 else np.nan,\n",
        "        'main_landcover': np.argmax(np.bincount(landcover_values_int.flatten())),\n",
        "        'dem_mean': np.mean(dem_values) if dem_values.size > 0 else np.nan,\n",
        "        'dem_min': np.min(dem_values) if dem_values.size > 0 else np.nan,\n",
        "        'dem_max': np.max(dem_values) if dem_values.size > 0 else np.nan,\n",
        "        'timestamp': timestamp\n",
        "    }\n",
        "\n",
        "\n",
        "# 主程序\n",
        "def main():\n",
        "    # 设置文件路径\n",
        "    landcover_path = '/content/drive/MyDrive/UTCI_prediction/data/spatial_images/landcover9.tif'\n",
        "    dem_path = '/content/drive/MyDrive/UTCI_prediction/data/spatial_images/DEM_9.tif'\n",
        "    utci_folder = '/content/drive/MyDrive/UTCI_prediction/data/output_images'\n",
        "    output_csv_path = '/content/drive/MyDrive/UTCI_prediction/data/0905_feature.csv'\n",
        "\n",
        "    # 读取土地利用和DEM数据\n",
        "    print(\"读取土地利用和DEM数据...\")\n",
        "    landcover_data = read_tif(landcover_path)\n",
        "    dem_data = read_tif(dem_path)\n",
        "\n",
        "    # 对土地利用数据进行分割\n",
        "    print(\"对土地利用数据进行分割...\")\n",
        "    segmented_landcover = segment_by_landcover(landcover_data)\n",
        "\n",
        "    # 初始化特征列表和时间戳\n",
        "    features_list = []\n",
        "    initial_timestamp = datetime.strptime(\"2022-07-03-00\", \"%Y-%m-%d-%H\")\n",
        "    time_increment = timedelta(hours=1)\n",
        "\n",
        "    # 处理UTCI数据文件\n",
        "    print(\"处理UTCI数据文件...\")\n",
        "    for index, filename in enumerate(sorted(os.listdir(utci_folder))):\n",
        "        if filename.endswith('.tif'):\n",
        "            utci_path = os.path.join(utci_folder, filename)\n",
        "            utci_data = read_tif(utci_path)\n",
        "\n",
        "            current_timestamp = initial_timestamp + index * time_increment\n",
        "            timestamp_str = current_timestamp.strftime(\"%Y-%m-%d-%H\")\n",
        "\n",
        "            regions = regionprops(segmented_landcover)\n",
        "            for region in regions:\n",
        "                features = process_region(region, utci_data, landcover_data, dem_data, timestamp_str)\n",
        "                features_list.append(features)\n",
        "\n",
        "        if (index + 1) % 10 == 0:\n",
        "            print(f\"已处理 {index + 1} 个文件...\")\n",
        "\n",
        "    # 创建DataFrame并保存为CSV\n",
        "    print(\"创建DataFrame并保存为CSV...\")\n",
        "    all_features_df = pd.DataFrame(features_list)\n",
        "    all_features_df.to_csv(output_csv_path, index=False)\n",
        "    print(f\"数据已保存至 {output_csv_path}\")\n",
        "\n",
        "if __name__ == \"__main__\":\n",
        "    main()"
      ],
      "metadata": {
        "colab": {
          "base_uri": "https://localhost:8080/"
        },
        "id": "D2bGRW1HZVz2",
        "outputId": "66b31bd8-e46d-4bcc-a4ed-05eb6918a0a2"
      },
      "execution_count": 9,
      "outputs": [
        {
          "output_type": "stream",
          "name": "stdout",
          "text": [
            "读取土地利用和DEM数据...\n",
            "对土地利用数据进行分割...\n",
            "处理UTCI数据文件...\n",
            "已处理 10 个文件...\n",
            "已处理 20 个文件...\n",
            "已处理 30 个文件...\n",
            "已处理 40 个文件...\n",
            "已处理 50 个文件...\n",
            "已处理 60 个文件...\n",
            "已处理 70 个文件...\n",
            "已处理 80 个文件...\n",
            "已处理 90 个文件...\n",
            "已处理 100 个文件...\n",
            "已处理 110 个文件...\n",
            "已处理 120 个文件...\n",
            "已处理 130 个文件...\n",
            "已处理 140 个文件...\n",
            "已处理 150 个文件...\n",
            "已处理 160 个文件...\n",
            "已处理 170 个文件...\n",
            "已处理 180 个文件...\n",
            "已处理 190 个文件...\n",
            "已处理 200 个文件...\n",
            "已处理 210 个文件...\n",
            "已处理 220 个文件...\n",
            "已处理 230 个文件...\n",
            "已处理 240 个文件...\n",
            "已处理 250 个文件...\n",
            "已处理 260 个文件...\n",
            "已处理 270 个文件...\n",
            "已处理 280 个文件...\n",
            "已处理 290 个文件...\n",
            "已处理 300 个文件...\n",
            "已处理 310 个文件...\n",
            "已处理 320 个文件...\n",
            "已处理 330 个文件...\n",
            "创建DataFrame并保存为CSV...\n",
            "数据已保存至 /content/drive/MyDrive/UTCI_prediction/data/0905_feature.csv\n"
          ]
        }
      ]
    },
    {
      "cell_type": "code",
      "source": [
        "import pandas as pd\n",
        "\n",
        "# 读取数据\n",
        "input_data = pd.read_csv('/content/drive/MyDrive/UTCI_prediction/data/0905_feature.csv')\n",
        "utci_data = pd.read_csv('/content/drive/MyDrive/UTCI_prediction/data/Yifan_updated_data_with_timestamps.csv')\n",
        "\n",
        "# 基于 region_id 和 timestamp 列合并数据\n",
        "merged_data = pd.merge(input_data, utci_data, on=['timestamp'], how='outer')\n",
        "\n",
        "# 保存合并后的数据到 CSV 文件\n",
        "merged_data.to_csv('/content/drive/MyDrive/UTCI_prediction/data/0905_merged_features.csv', index=False)"
      ],
      "metadata": {
        "id": "DC3Ye7wycjPX"
      },
      "execution_count": 13,
      "outputs": []
    }
  ]
}